{
 "cells": [
  {
   "cell_type": "code",
   "execution_count": 1,
   "id": "bef76b9e",
   "metadata": {},
   "outputs": [],
   "source": [
    "import pandas as pd\n",
    "import pandas as pd\n",
    "import numpy as np\n",
    "import warnings\n",
    "import sys\n",
    "import seaborn as sns\n",
    "if not sys.warnoptions:\n",
    "    warnings.simplefilter(\"ignore\")\n",
    "warnings.filterwarnings(\"ignore\", category=DeprecationWarning)"
   ]
  },
  {
   "cell_type": "code",
   "execution_count": 2,
   "id": "0315f843",
   "metadata": {},
   "outputs": [],
   "source": [
    "df1=pd.read_csv(r\"C:\\Users\\dhanu\\Desktop\\Mini Project\\dataset\\tweet dataset\\tweet_emotions.csv\")\n",
    "df2=pd.read_csv(r\"C:\\Users\\dhanu\\Desktop\\Mini Project\\dataset\\tweet dataset\\data.csv\")"
   ]
  },
  {
   "cell_type": "code",
   "execution_count": 3,
   "id": "bb82b754",
   "metadata": {},
   "outputs": [],
   "source": [
    "df1.drop(\"tweet_id\",axis=1,inplace=True)"
   ]
  },
  {
   "cell_type": "code",
   "execution_count": 4,
   "id": "270d8e64",
   "metadata": {},
   "outputs": [],
   "source": [
    "df2.drop([\"Sl no\",\"Search key\"],axis=1,inplace=True)"
   ]
  },
  {
   "cell_type": "code",
   "execution_count": 5,
   "id": "31c9e7fe",
   "metadata": {},
   "outputs": [
    {
     "data": {
      "text/plain": [
       "array(['happy', 'sad', 'angry', 'fear', 'disgust', 'surprise'],\n",
       "      dtype=object)"
      ]
     },
     "execution_count": 5,
     "metadata": {},
     "output_type": "execute_result"
    }
   ],
   "source": [
    "df2[\"Feeling\"].unique()"
   ]
  },
  {
   "cell_type": "code",
   "execution_count": 6,
   "id": "d06a9f0d",
   "metadata": {},
   "outputs": [],
   "source": [
    "u=df1[\"sentiment\"].unique()\n",
    "for i in range(len(df1)):\n",
    "    if df1[\"sentiment\"][i]==\"sadness\":\n",
    "        df2.loc[len(df2.index)]=[df1[\"content\"][i],\"sad\"]\n",
    "    elif df1[\"sentiment\"][i]==\"happiness\":\n",
    "        df2.loc[len(df2.index)]=[df1[\"content\"][i],\"happy\"]\n",
    "    elif df1[\"sentiment\"][i]==\"anger\":\n",
    "        df2.loc[len(df2.index)]=[df1[\"content\"][i],\"angry\"]\n",
    "    elif df1[\"sentiment\"][i] in [\"neutral\",\"surprise\",\"fear\",\"disgust\"]:\n",
    "        df2.loc[len(df2.index)]=[df1[\"content\"][i],df1[\"sentiment\"][i]]"
   ]
  },
  {
   "cell_type": "code",
   "execution_count": 7,
   "id": "3a0b8d72",
   "metadata": {},
   "outputs": [
    {
     "data": {
      "text/html": [
       "<div>\n",
       "<style scoped>\n",
       "    .dataframe tbody tr th:only-of-type {\n",
       "        vertical-align: middle;\n",
       "    }\n",
       "\n",
       "    .dataframe tbody tr th {\n",
       "        vertical-align: top;\n",
       "    }\n",
       "\n",
       "    .dataframe thead th {\n",
       "        text-align: right;\n",
       "    }\n",
       "</style>\n",
       "<table border=\"1\" class=\"dataframe\">\n",
       "  <thead>\n",
       "    <tr style=\"text-align: right;\">\n",
       "      <th></th>\n",
       "      <th>Tweets</th>\n",
       "      <th>Feeling</th>\n",
       "    </tr>\n",
       "  </thead>\n",
       "  <tbody>\n",
       "    <tr>\n",
       "      <th>0</th>\n",
       "      <td>#1: @fe ed \"RT @MirayaDizon1: Time is ticking...</td>\n",
       "      <td>happy</td>\n",
       "    </tr>\n",
       "    <tr>\n",
       "      <th>1</th>\n",
       "      <td>#2: @蓮花 &amp;はすか ed \"RT @ninjaryugo: ＃コナモンの日 だそうで...</td>\n",
       "      <td>happy</td>\n",
       "    </tr>\n",
       "    <tr>\n",
       "      <th>2</th>\n",
       "      <td>#3: @Ris ♡ ed \"Happy birthday to one smokin h...</td>\n",
       "      <td>happy</td>\n",
       "    </tr>\n",
       "    <tr>\n",
       "      <th>3</th>\n",
       "      <td>#4: @월월 [씍쯴사랑로봇] jwinnie is the best, cheer u...</td>\n",
       "      <td>happy</td>\n",
       "    </tr>\n",
       "    <tr>\n",
       "      <th>4</th>\n",
       "      <td>#5: @Madhurima wth u vc♥ ed \"Good morning dea...</td>\n",
       "      <td>happy</td>\n",
       "    </tr>\n",
       "    <tr>\n",
       "      <th>...</th>\n",
       "      <td>...</td>\n",
       "      <td>...</td>\n",
       "    </tr>\n",
       "    <tr>\n",
       "      <th>31321</th>\n",
       "      <td>@jasimmo Ooo showing of your French skills!! l...</td>\n",
       "      <td>neutral</td>\n",
       "    </tr>\n",
       "    <tr>\n",
       "      <th>31322</th>\n",
       "      <td>@sendsome2me haha, yeah. Twitter has many uses...</td>\n",
       "      <td>neutral</td>\n",
       "    </tr>\n",
       "    <tr>\n",
       "      <th>31323</th>\n",
       "      <td>Succesfully following Tayla!!</td>\n",
       "      <td>happy</td>\n",
       "    </tr>\n",
       "    <tr>\n",
       "      <th>31324</th>\n",
       "      <td>@JohnLloydTaylor</td>\n",
       "      <td>neutral</td>\n",
       "    </tr>\n",
       "    <tr>\n",
       "      <th>31325</th>\n",
       "      <td>@niariley WASSUP BEAUTIFUL!!! FOLLOW ME!!  PEE...</td>\n",
       "      <td>happy</td>\n",
       "    </tr>\n",
       "  </tbody>\n",
       "</table>\n",
       "<p>31326 rows × 2 columns</p>\n",
       "</div>"
      ],
      "text/plain": [
       "                                                  Tweets  Feeling\n",
       "0       #1: @fe ed \"RT @MirayaDizon1: Time is ticking...    happy\n",
       "1       #2: @蓮花 &はすか ed \"RT @ninjaryugo: ＃コナモンの日 だそうで...    happy\n",
       "2       #3: @Ris ♡ ed \"Happy birthday to one smokin h...    happy\n",
       "3       #4: @월월 [씍쯴사랑로봇] jwinnie is the best, cheer u...    happy\n",
       "4       #5: @Madhurima wth u vc♥ ed \"Good morning dea...    happy\n",
       "...                                                  ...      ...\n",
       "31321  @jasimmo Ooo showing of your French skills!! l...  neutral\n",
       "31322  @sendsome2me haha, yeah. Twitter has many uses...  neutral\n",
       "31323                      Succesfully following Tayla!!    happy\n",
       "31324                                   @JohnLloydTaylor  neutral\n",
       "31325  @niariley WASSUP BEAUTIFUL!!! FOLLOW ME!!  PEE...    happy\n",
       "\n",
       "[31326 rows x 2 columns]"
      ]
     },
     "execution_count": 7,
     "metadata": {},
     "output_type": "execute_result"
    }
   ],
   "source": [
    "df2"
   ]
  },
  {
   "cell_type": "code",
   "execution_count": 8,
   "id": "ba0130ca",
   "metadata": {},
   "outputs": [
    {
     "data": {
      "text/plain": [
       "<Axes: xlabel='Feeling', ylabel='count'>"
      ]
     },
     "execution_count": 8,
     "metadata": {},
     "output_type": "execute_result"
    },
    {
     "data": {
      "image/png": "[encoded data removed]",
      "text/plain": [
       "<Figure size 432x288 with 1 Axes>"
      ]
     },
     "metadata": {
      "needs_background": "light"
     },
     "output_type": "display_data"
    }
   ],
   "source": [
    "sns.countplot(df2.Feeling)"
   ]
  },
  {
   "cell_type": "code",
   "execution_count": 9,
   "id": "8f40ebc0",
   "metadata": {},
   "outputs": [],
   "source": [
    "data=pd.read_csv(r\"C:\\Users\\dhanu\\Desktop\\Mini Project\\dataset\\tweet dataset\\go_emotions_dataset.csv\")"
   ]
  },
  {
   "cell_type": "code",
   "execution_count": 10,
   "id": "e36dde58",
   "metadata": {},
   "outputs": [],
   "source": [
    "data=data.loc[data[\"example_very_unclear\"]==False].reset_index()\n",
    "data.drop([\"index\",\"id\",\"example_very_unclear\"],axis=1,inplace=True)"
   ]
  },
  {
   "cell_type": "code",
   "execution_count": 11,
   "id": "bcb7f6cd",
   "metadata": {},
   "outputs": [
    {
     "data": {
      "text/html": [
       "<div>\n",
       "<style scoped>\n",
       "    .dataframe tbody tr th:only-of-type {\n",
       "        vertical-align: middle;\n",
       "    }\n",
       "\n",
       "    .dataframe tbody tr th {\n",
       "        vertical-align: top;\n",
       "    }\n",
       "\n",
       "    .dataframe thead th {\n",
       "        text-align: right;\n",
       "    }\n",
       "</style>\n",
       "<table border=\"1\" class=\"dataframe\">\n",
       "  <thead>\n",
       "    <tr style=\"text-align: right;\">\n",
       "      <th></th>\n",
       "      <th>text</th>\n",
       "      <th>disgust</th>\n",
       "      <th>joy</th>\n",
       "      <th>surprise</th>\n",
       "      <th>neutral</th>\n",
       "      <th>sadness</th>\n",
       "      <th>fear</th>\n",
       "      <th>anger</th>\n",
       "    </tr>\n",
       "  </thead>\n",
       "  <tbody>\n",
       "    <tr>\n",
       "      <th>0</th>\n",
       "      <td>That game hurt.</td>\n",
       "      <td>0</td>\n",
       "      <td>0</td>\n",
       "      <td>0</td>\n",
       "      <td>0</td>\n",
       "      <td>1</td>\n",
       "      <td>0</td>\n",
       "      <td>0</td>\n",
       "    </tr>\n",
       "    <tr>\n",
       "      <th>1</th>\n",
       "      <td>You do right, if you don't care then fuck 'em!</td>\n",
       "      <td>0</td>\n",
       "      <td>0</td>\n",
       "      <td>0</td>\n",
       "      <td>1</td>\n",
       "      <td>0</td>\n",
       "      <td>0</td>\n",
       "      <td>0</td>\n",
       "    </tr>\n",
       "    <tr>\n",
       "      <th>2</th>\n",
       "      <td>Man I love reddit.</td>\n",
       "      <td>0</td>\n",
       "      <td>0</td>\n",
       "      <td>0</td>\n",
       "      <td>0</td>\n",
       "      <td>0</td>\n",
       "      <td>0</td>\n",
       "      <td>0</td>\n",
       "    </tr>\n",
       "    <tr>\n",
       "      <th>3</th>\n",
       "      <td>[NAME] was nowhere near them, he was by the Fa...</td>\n",
       "      <td>0</td>\n",
       "      <td>0</td>\n",
       "      <td>0</td>\n",
       "      <td>1</td>\n",
       "      <td>0</td>\n",
       "      <td>0</td>\n",
       "      <td>0</td>\n",
       "    </tr>\n",
       "    <tr>\n",
       "      <th>4</th>\n",
       "      <td>Right? Considering it’s such an important docu...</td>\n",
       "      <td>0</td>\n",
       "      <td>0</td>\n",
       "      <td>0</td>\n",
       "      <td>0</td>\n",
       "      <td>0</td>\n",
       "      <td>0</td>\n",
       "      <td>0</td>\n",
       "    </tr>\n",
       "    <tr>\n",
       "      <th>...</th>\n",
       "      <td>...</td>\n",
       "      <td>...</td>\n",
       "      <td>...</td>\n",
       "      <td>...</td>\n",
       "      <td>...</td>\n",
       "      <td>...</td>\n",
       "      <td>...</td>\n",
       "      <td>...</td>\n",
       "    </tr>\n",
       "    <tr>\n",
       "      <th>207809</th>\n",
       "      <td>Well, I'm glad you're out of all that now. How...</td>\n",
       "      <td>0</td>\n",
       "      <td>1</td>\n",
       "      <td>0</td>\n",
       "      <td>0</td>\n",
       "      <td>0</td>\n",
       "      <td>0</td>\n",
       "      <td>0</td>\n",
       "    </tr>\n",
       "    <tr>\n",
       "      <th>207810</th>\n",
       "      <td>Everyone likes [NAME].</td>\n",
       "      <td>0</td>\n",
       "      <td>0</td>\n",
       "      <td>0</td>\n",
       "      <td>0</td>\n",
       "      <td>0</td>\n",
       "      <td>0</td>\n",
       "      <td>0</td>\n",
       "    </tr>\n",
       "    <tr>\n",
       "      <th>207811</th>\n",
       "      <td>Well when you’ve imported about a gazillion of...</td>\n",
       "      <td>0</td>\n",
       "      <td>0</td>\n",
       "      <td>0</td>\n",
       "      <td>0</td>\n",
       "      <td>0</td>\n",
       "      <td>0</td>\n",
       "      <td>0</td>\n",
       "    </tr>\n",
       "    <tr>\n",
       "      <th>207812</th>\n",
       "      <td>That looks amazing</td>\n",
       "      <td>0</td>\n",
       "      <td>0</td>\n",
       "      <td>0</td>\n",
       "      <td>0</td>\n",
       "      <td>0</td>\n",
       "      <td>0</td>\n",
       "      <td>0</td>\n",
       "    </tr>\n",
       "    <tr>\n",
       "      <th>207813</th>\n",
       "      <td>The FDA has plenty to criticize. But like here...</td>\n",
       "      <td>0</td>\n",
       "      <td>0</td>\n",
       "      <td>0</td>\n",
       "      <td>0</td>\n",
       "      <td>0</td>\n",
       "      <td>0</td>\n",
       "      <td>1</td>\n",
       "    </tr>\n",
       "  </tbody>\n",
       "</table>\n",
       "<p>207814 rows × 8 columns</p>\n",
       "</div>"
      ],
      "text/plain": [
       "                                                     text  disgust  joy  \\\n",
       "0                                         That game hurt.        0    0   \n",
       "1          You do right, if you don't care then fuck 'em!        0    0   \n",
       "2                                      Man I love reddit.        0    0   \n",
       "3       [NAME] was nowhere near them, he was by the Fa...        0    0   \n",
       "4       Right? Considering it’s such an important docu...        0    0   \n",
       "...                                                   ...      ...  ...   \n",
       "207809  Well, I'm glad you're out of all that now. How...        0    1   \n",
       "207810                             Everyone likes [NAME].        0    0   \n",
       "207811  Well when you’ve imported about a gazillion of...        0    0   \n",
       "207812                                 That looks amazing        0    0   \n",
       "207813  The FDA has plenty to criticize. But like here...        0    0   \n",
       "\n",
       "        surprise  neutral  sadness  fear  anger  \n",
       "0              0        0        1     0      0  \n",
       "1              0        1        0     0      0  \n",
       "2              0        0        0     0      0  \n",
       "3              0        1        0     0      0  \n",
       "4              0        0        0     0      0  \n",
       "...          ...      ...      ...   ...    ...  \n",
       "207809         0        0        0     0      0  \n",
       "207810         0        0        0     0      0  \n",
       "207811         0        0        0     0      0  \n",
       "207812         0        0        0     0      0  \n",
       "207813         0        0        0     0      1  \n",
       "\n",
       "[207814 rows x 8 columns]"
      ]
     },
     "execution_count": 11,
     "metadata": {},
     "output_type": "execute_result"
    }
   ],
   "source": [
    "data=data.loc[:,[\"text\",\"disgust\",\"joy\",\"surprise\",\"neutral\",\"sadness\",\"fear\",\"anger\"]]\n",
    "data"
   ]
  },
  {
   "cell_type": "code",
   "execution_count": 12,
   "id": "00dec157",
   "metadata": {},
   "outputs": [],
   "source": [
    "data[\"label\"]=[0]*len(data)\n",
    "for i in data.index:\n",
    "    for j in data.columns[1:]:\n",
    "        if data[j][i]==1:\n",
    "            data[\"label\"][i]=j\n",
    "            break"
   ]
  },
  {
   "cell_type": "code",
   "execution_count": 13,
   "id": "7cd1fd3b",
   "metadata": {},
   "outputs": [],
   "source": [
    "data=data.loc[:,[\"text\",\"label\"]]\n",
    "data=data[~(data == 0).any(axis=1)].reset_index()"
   ]
  },
  {
   "cell_type": "code",
   "execution_count": 14,
   "id": "d0fbec83",
   "metadata": {},
   "outputs": [
    {
     "data": {
      "text/plain": [
       "<Axes: xlabel='label', ylabel='count'>"
      ]
     },
     "execution_count": 14,
     "metadata": {},
     "output_type": "execute_result"
    },
    {
     "data": {
      "image/png": "[encoded data removed]",
      "text/plain": [
       "<Figure size 432x288 with 1 Axes>"
      ]
     },
     "metadata": {
      "needs_background": "light"
     },
     "output_type": "display_data"
    }
   ],
   "source": [
    "import seaborn as sns\n",
    "sns.countplot(data.label)"
   ]
  },
  {
   "cell_type": "code",
   "execution_count": 15,
   "id": "db8e5d00",
   "metadata": {},
   "outputs": [],
   "source": [
    "data.drop(\"index\",axis=1,inplace=True)"
   ]
  },
  {
   "cell_type": "code",
   "execution_count": 16,
   "id": "b4516845",
   "metadata": {},
   "outputs": [],
   "source": [
    "u=data[\"label\"].unique()\n",
    "for i in range(len(data)):\n",
    "    if data[\"label\"][i]==\"sadness\":\n",
    "        df2.loc[len(df2.index)]=[data[\"text\"][i],\"sad\"]\n",
    "    elif data[\"label\"][i]==\"joy\":\n",
    "        df2.loc[len(df2.index)]=[data[\"text\"][i],\"happy\"]\n",
    "    elif data[\"label\"][i]==\"anger\":\n",
    "        df2.loc[len(df2.index)]=[data[\"text\"][i],\"angry\"]\n",
    "    elif data[\"label\"][i] in [\"neutral\",\"surprise\",\"fear\",\"disgust\"]:\n",
    "        df2.loc[len(df2.index)]=[data[\"text\"][i],data[\"label\"][i]]"
   ]
  },
  {
   "cell_type": "code",
   "execution_count": 19,
   "id": "629c36ed",
   "metadata": {},
   "outputs": [],
   "source": [
    "df2.to_csv(\"dataset.csv\")"
   ]
  },
  {
   "cell_type": "code",
   "execution_count": 20,
   "id": "343c848c",
   "metadata": {},
   "outputs": [
    {
     "data": {
      "text/html": [
       "<div>\n",
       "<style scoped>\n",
       "    .dataframe tbody tr th:only-of-type {\n",
       "        vertical-align: middle;\n",
       "    }\n",
       "\n",
       "    .dataframe tbody tr th {\n",
       "        vertical-align: top;\n",
       "    }\n",
       "\n",
       "    .dataframe thead th {\n",
       "        text-align: right;\n",
       "    }\n",
       "</style>\n",
       "<table border=\"1\" class=\"dataframe\">\n",
       "  <thead>\n",
       "    <tr style=\"text-align: right;\">\n",
       "      <th></th>\n",
       "      <th>Tweets</th>\n",
       "      <th>Feeling</th>\n",
       "    </tr>\n",
       "  </thead>\n",
       "  <tbody>\n",
       "    <tr>\n",
       "      <th>0</th>\n",
       "      <td>#1: @fe ed \"RT @MirayaDizon1: Time is ticking...</td>\n",
       "      <td>happy</td>\n",
       "    </tr>\n",
       "    <tr>\n",
       "      <th>1</th>\n",
       "      <td>#2: @蓮花 &amp;はすか ed \"RT @ninjaryugo: ＃コナモンの日 だそうで...</td>\n",
       "      <td>happy</td>\n",
       "    </tr>\n",
       "    <tr>\n",
       "      <th>2</th>\n",
       "      <td>#3: @Ris ♡ ed \"Happy birthday to one smokin h...</td>\n",
       "      <td>happy</td>\n",
       "    </tr>\n",
       "    <tr>\n",
       "      <th>3</th>\n",
       "      <td>#4: @월월 [씍쯴사랑로봇] jwinnie is the best, cheer u...</td>\n",
       "      <td>happy</td>\n",
       "    </tr>\n",
       "    <tr>\n",
       "      <th>4</th>\n",
       "      <td>#5: @Madhurima wth u vc♥ ed \"Good morning dea...</td>\n",
       "      <td>happy</td>\n",
       "    </tr>\n",
       "    <tr>\n",
       "      <th>...</th>\n",
       "      <td>...</td>\n",
       "      <td>...</td>\n",
       "    </tr>\n",
       "    <tr>\n",
       "      <th>122019</th>\n",
       "      <td>What a great photo and you two look so happy. 😍</td>\n",
       "      <td>happy</td>\n",
       "    </tr>\n",
       "    <tr>\n",
       "      <th>122020</th>\n",
       "      <td>Wow, she headlines two shows now</td>\n",
       "      <td>neutral</td>\n",
       "    </tr>\n",
       "    <tr>\n",
       "      <th>122021</th>\n",
       "      <td>Youtube is my Wikipedia. Videos about any inte...</td>\n",
       "      <td>neutral</td>\n",
       "    </tr>\n",
       "    <tr>\n",
       "      <th>122022</th>\n",
       "      <td>Well, I'm glad you're out of all that now. How...</td>\n",
       "      <td>happy</td>\n",
       "    </tr>\n",
       "    <tr>\n",
       "      <th>122023</th>\n",
       "      <td>The FDA has plenty to criticize. But like here...</td>\n",
       "      <td>angry</td>\n",
       "    </tr>\n",
       "  </tbody>\n",
       "</table>\n",
       "<p>122024 rows × 2 columns</p>\n",
       "</div>"
      ],
      "text/plain": [
       "                                                   Tweets  Feeling\n",
       "0        #1: @fe ed \"RT @MirayaDizon1: Time is ticking...    happy\n",
       "1        #2: @蓮花 &はすか ed \"RT @ninjaryugo: ＃コナモンの日 だそうで...    happy\n",
       "2        #3: @Ris ♡ ed \"Happy birthday to one smokin h...    happy\n",
       "3        #4: @월월 [씍쯴사랑로봇] jwinnie is the best, cheer u...    happy\n",
       "4        #5: @Madhurima wth u vc♥ ed \"Good morning dea...    happy\n",
       "...                                                   ...      ...\n",
       "122019    What a great photo and you two look so happy. 😍    happy\n",
       "122020                   Wow, she headlines two shows now  neutral\n",
       "122021  Youtube is my Wikipedia. Videos about any inte...  neutral\n",
       "122022  Well, I'm glad you're out of all that now. How...    happy\n",
       "122023  The FDA has plenty to criticize. But like here...    angry\n",
       "\n",
       "[122024 rows x 2 columns]"
      ]
     },
     "execution_count": 20,
     "metadata": {},
     "output_type": "execute_result"
    }
   ],
   "source": [
    "df2"
   ]
  },
  {
   "cell_type": "code",
   "execution_count": 23,
   "id": "8d80a461",
   "metadata": {},
   "outputs": [
    {
     "data": {
      "text/plain": [
       "<Axes: xlabel='Feeling', ylabel='count'>"
      ]
     },
     "execution_count": 23,
     "metadata": {},
     "output_type": "execute_result"
    },
    {
     "data": {
      "image/png": "[encoded data removed]",
      "text/plain": [
       "<Figure size 432x288 with 1 Axes>"
      ]
     },
     "metadata": {
      "needs_background": "light"
     },
     "output_type": "display_data"
    }
   ],
   "source": [
    "sns.countplot(df2.Feeling)"
   ]
  },
  {
   "cell_type": "code",
   "execution_count": null,
   "id": "b8356579",
   "metadata": {},
   "outputs": [],
   "source": []
  }
 ],
 "metadata": {
  "kernelspec": {
   "display_name": "Python 3 (ipykernel)",
   "language": "python",
   "name": "python3"
  },
  "language_info": {
   "codemirror_mode": {
    "name": "ipython",
    "version": 3
   },
   "file_extension": ".py",
   "mimetype": "text/x-python",
   "name": "python",
   "nbconvert_exporter": "python",
   "pygments_lexer": "ipython3",
   "version": "3.9.12"
  }
 },
 "nbformat": 4,
 "nbformat_minor": 5
}
